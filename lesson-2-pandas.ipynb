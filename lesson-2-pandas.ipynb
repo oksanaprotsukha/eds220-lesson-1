{
 "cells": [
  {
   "cell_type": "markdown",
   "id": "26b03c65-af4b-4d27-ab6a-21faa5342633",
   "metadata": {},
   "source": [
    "# Objectives\n",
    "\n",
    "Rewiew core `pandas` objects: `pandas.Series` and `pandas.DataFrame`\n",
    "\n",
    "# `pandas`\n",
    "- Python package to wrangle and analyze tabular data\n",
    "- built on top of NumPy\n",
    "- core tool for data analysis in Python"
   ]
  },
  {
   "cell_type": "code",
   "execution_count": 1,
   "id": "7eb5371e-83bb-4148-bc19-2f77d955c905",
   "metadata": {
    "tags": []
   },
   "outputs": [],
   "source": [
    "import pandas as pd \n",
    "import numpy as np"
   ]
  },
  {
   "cell_type": "markdown",
   "id": "b783bd2c-9c66-4731-aa5a-f3a7e45a4aa5",
   "metadata": {},
   "source": [
    "# Series\n",
    "\n",
    "A `pandas.Series` \n",
    "- is on of the core data structures in `pandas`\n",
    "- a 1- dimensional array of *indexed* data\n",
    "- will be the columns of the `pandas.DataFrame`\n",
    "\n",
    "# Creating a pandas Series\n",
    "\n",
    "Several ways of creating a pandas Series.\n",
    "Option 1: \n",
    "\n",
    "```\n",
    "s = pd.Series(data, index=index)\n",
    "```\n",
    "\n",
    "- `data` = numpy array (or a list of objects that can be converted to NumPy types)\n",
    "- `index` = a list of indices of same length as data\n"
   ]
  },
  {
   "cell_type": "code",
   "execution_count": 8,
   "id": "2b5afb05-c3fe-4ba0-8b93-cf15e326c39c",
   "metadata": {
    "tags": []
   },
   "outputs": [
    {
     "data": {
      "text/plain": [
       "array([0, 1, 2])"
      ]
     },
     "execution_count": 8,
     "metadata": {},
     "output_type": "execute_result"
    }
   ],
   "source": [
    "# Ex. a pandas series from a numpy array\n",
    "\n",
    "#np.arrange() function constructs an array of consecutive integers\n",
    "np.arange(3)"
   ]
  },
  {
   "cell_type": "code",
   "execution_count": 9,
   "id": "d06fe1a5-ecdd-4f22-8dfc-2b4a9313ab0d",
   "metadata": {
    "tags": []
   },
   "outputs": [
    {
     "data": {
      "text/plain": [
       "a    0\n",
       "b    1\n",
       "c    2\n",
       "dtype: int64"
      ]
     },
     "execution_count": 9,
     "metadata": {},
     "output_type": "execute_result"
    }
   ],
   "source": [
    "# we can use this to create a pandas Series\n",
    "pd.Series(np.arange(3), index=['a', 'b', 'c'])"
   ]
  },
  {
   "cell_type": "markdown",
   "id": "19b1ed06-08c8-4aca-affd-2ef648c25ba9",
   "metadata": {},
   "source": [
    "What kind of parameter is `index`?\n",
    "\n",
    "A: an optional parameter, there is a default value to it.\n",
    "If we don't specify `index`, the default is to start the index from 0.\n",
    "\n",
    "Example"
   ]
  },
  {
   "cell_type": "code",
   "execution_count": 10,
   "id": "77870c01-9837-495a-a043-c7eca592d8d3",
   "metadata": {
    "tags": []
   },
   "outputs": [
    {
     "data": {
      "text/plain": [
       "0    EDS 220\n",
       "1    EDS 222\n",
       "2    EDS 223\n",
       "3    EDS 242\n",
       "dtype: object"
      ]
     },
     "execution_count": 10,
     "metadata": {},
     "output_type": "execute_result"
    }
   ],
   "source": [
    "# create a series from a list of strings with default index\n",
    "\n",
    "pd.Series(['EDS 220', 'EDS 222', 'EDS 223', 'EDS 242'])"
   ]
  },
  {
   "cell_type": "markdown",
   "id": "1188e000-4cdc-417c-9bcb-6028d7768b23",
   "metadata": {},
   "source": [
    "# Operations of series\n",
    "\n",
    "Arithmetic operations work on series on also most NumPy functions.\n",
    "\n",
    "Example:"
   ]
  },
  {
   "cell_type": "code",
   "execution_count": 12,
   "id": "62d1c03d-db7e-40a1-825a-c61d97199407",
   "metadata": {
    "tags": []
   },
   "outputs": [
    {
     "name": "stdout",
     "output_type": "stream",
     "text": [
      "Andrea      98\n",
      "Beth        73\n",
      "Carolina    65\n",
      "dtype: int64 \n",
      "\n",
      "Andrea      9.8\n",
      "Beth        7.3\n",
      "Carolina    6.5\n",
      "dtype: float64\n"
     ]
    }
   ],
   "source": [
    "#define series\n",
    "s = pd.Series([98, 73, 65], index=['Andrea', 'Beth', 'Carolina'])\n",
    "print(s, '\\n')\n",
    "\n",
    "#divide each element in the series by 10\n",
    "print(s/10)"
   ]
  },
  {
   "cell_type": "markdown",
   "id": "4c4db5fe-60d1-4ba9-b5fe-5eaaf9cb3ee7",
   "metadata": {},
   "source": [
    "Example: create a new series with `True/False` values indicating whether the elements in the series satisfy a condition or not.\n"
   ]
  },
  {
   "cell_type": "code",
   "execution_count": 13,
   "id": "4e738e3f-3279-4751-a3c7-eee9ed800807",
   "metadata": {
    "tags": []
   },
   "outputs": [
    {
     "data": {
      "text/plain": [
       "Andrea       True\n",
       "Beth         True\n",
       "Carolina    False\n",
       "dtype: bool"
      ]
     },
     "execution_count": 13,
     "metadata": {},
     "output_type": "execute_result"
    }
   ],
   "source": [
    "s > 70"
   ]
  },
  {
   "cell_type": "markdown",
   "id": "673723a5-9cc3-4b4b-b2da-97dda083e15e",
   "metadata": {},
   "source": [
    "This is simple -- but **important** Using conditions on Series is key to select data from dataframes"
   ]
  },
  {
   "cell_type": "markdown",
   "id": "6eac18c4-2dfb-4146-9206-9fc7bf2083f2",
   "metadata": {},
   "source": [
    "## Atributes and Methods\n",
    "\n",
    "Two examples of identifying missing values\n",
    "\n",
    "- missing values in `pandas` are represented by `np.NaN` = not a number\n",
    "- `NaN` is a type of float in numpy"
   ]
  },
  {
   "cell_type": "code",
   "execution_count": 14,
   "id": "913840c3-267f-4b63-960a-9df17661ae43",
   "metadata": {
    "tags": []
   },
   "outputs": [
    {
     "data": {
      "text/plain": [
       "nan"
      ]
     },
     "execution_count": 14,
     "metadata": {},
     "output_type": "execute_result"
    }
   ],
   "source": [
    "np.NaN"
   ]
  },
  {
   "cell_type": "code",
   "execution_count": 15,
   "id": "311fb45d-3fb3-4d9b-ab0e-652726247326",
   "metadata": {
    "tags": []
   },
   "outputs": [
    {
     "data": {
      "text/plain": [
       "float"
      ]
     },
     "execution_count": 15,
     "metadata": {},
     "output_type": "execute_result"
    }
   ],
   "source": [
    "type(np.NaN)"
   ]
  },
  {
   "cell_type": "code",
   "execution_count": 18,
   "id": "fbbd11d7-3dfb-4e3a-890d-6a09ec1dff9e",
   "metadata": {
    "tags": []
   },
   "outputs": [
    {
     "data": {
      "text/plain": [
       "0    1.0\n",
       "1    2.0\n",
       "2    NaN\n",
       "3    4.0\n",
       "4    NaN\n",
       "dtype: float64"
      ]
     },
     "execution_count": 18,
     "metadata": {},
     "output_type": "execute_result"
    }
   ],
   "source": [
    "# series with NAs:\n",
    "s = pd.Series([1,2,np.NaN, 4, np.NaN])\n",
    "s"
   ]
  },
  {
   "cell_type": "markdown",
   "id": "d2098a33-21c4-43d2-b911-629c26c5c50d",
   "metadata": {},
   "source": [
    "`hasnans` = attribute of pandas series, returns `True` if there are any NaNs:"
   ]
  },
  {
   "cell_type": "code",
   "execution_count": 19,
   "id": "3dd9735b-74e8-4864-aac0-ca6f8c044a72",
   "metadata": {
    "tags": []
   },
   "outputs": [
    {
     "data": {
      "text/plain": [
       "True"
      ]
     },
     "execution_count": 19,
     "metadata": {},
     "output_type": "execute_result"
    }
   ],
   "source": [
    "# check if Series has NAs\n",
    "s.hasnans"
   ]
  },
  {
   "cell_type": "markdown",
   "id": "29555b4c-5a3a-479e-93bf-d094f5dbf3a2",
   "metadata": {},
   "source": [
    "`isna()` = a **method** of series, returns a series indicating which elements are NaN:"
   ]
  },
  {
   "cell_type": "code",
   "execution_count": 20,
   "id": "8e41a6ec-55d1-48a8-92cb-77bb222a3209",
   "metadata": {
    "tags": []
   },
   "outputs": [
    {
     "data": {
      "text/plain": [
       "0    False\n",
       "1    False\n",
       "2     True\n",
       "3    False\n",
       "4     True\n",
       "dtype: bool"
      ]
     },
     "execution_count": 20,
     "metadata": {},
     "output_type": "execute_result"
    }
   ],
   "source": [
    "s.isna()"
   ]
  },
  {
   "cell_type": "markdown",
   "id": "3e81e554-fdc6-4af2-b04d-4a2971ff814d",
   "metadata": {},
   "source": [
    "`bool`: `True` or `False` are **boolean values**\n",
    "\n",
    "# DataFrames\n",
    "\n",
    "`pandas.DataFrame`:\n",
    "- the most used object in `pandas`\n",
    "- represents tabular data (think of a spreadsheet)\n",
    "- each column is a `pandas.Series`\n",
    "\n",
    "# Creating a `pandas.DataFrame`\n",
    "*Many ways of creating a dataframe*. \n",
    "Dictionaries = sets of key-value pairs:\n",
    "\n",
    "```\n",
    "{ key1 : value1,\n",
    "  key2 : value2\n",
    "}\n",
    "```\n",
    "Think of a `pandas.DataFrame` as a dictionary where:\n",
    "- keys=column names\n",
    "- values= column values\n",
    "\n",
    "We can create a dataframe like this:"
   ]
  },
  {
   "cell_type": "code",
   "execution_count": 21,
   "id": "53ae8b91-5999-4e96-b334-3c02c12d7508",
   "metadata": {
    "tags": []
   },
   "outputs": [
    {
     "data": {
      "text/plain": [
       "{'col_name1': array([0, 1, 2]), 'col_name2': [3.1, 3.2, 3.3]}"
      ]
     },
     "execution_count": 21,
     "metadata": {},
     "output_type": "execute_result"
    }
   ],
   "source": [
    "# initialize dictionary with columns' data\n",
    "d = {'col_name1' : np.arange(3),\n",
    "    'col_name2' : [3.1, 3.2, 3.3]\n",
    "    }\n",
    "d"
   ]
  },
  {
   "cell_type": "code",
   "execution_count": 41,
   "id": "fb4bdab0-90ef-4426-82a7-a737ff47adc1",
   "metadata": {
    "tags": []
   },
   "outputs": [
    {
     "data": {
      "text/html": [
       "<div>\n",
       "<style scoped>\n",
       "    .dataframe tbody tr th:only-of-type {\n",
       "        vertical-align: middle;\n",
       "    }\n",
       "\n",
       "    .dataframe tbody tr th {\n",
       "        vertical-align: top;\n",
       "    }\n",
       "\n",
       "    .dataframe thead th {\n",
       "        text-align: right;\n",
       "    }\n",
       "</style>\n",
       "<table border=\"1\" class=\"dataframe\">\n",
       "  <thead>\n",
       "    <tr style=\"text-align: right;\">\n",
       "      <th></th>\n",
       "      <th>col_name1</th>\n",
       "      <th>col_name2</th>\n",
       "    </tr>\n",
       "  </thead>\n",
       "  <tbody>\n",
       "    <tr>\n",
       "      <th>0</th>\n",
       "      <td>0</td>\n",
       "      <td>3.1</td>\n",
       "    </tr>\n",
       "    <tr>\n",
       "      <th>1</th>\n",
       "      <td>1</td>\n",
       "      <td>3.2</td>\n",
       "    </tr>\n",
       "    <tr>\n",
       "      <th>2</th>\n",
       "      <td>2</td>\n",
       "      <td>3.3</td>\n",
       "    </tr>\n",
       "  </tbody>\n",
       "</table>\n",
       "</div>"
      ],
      "text/plain": [
       "   col_name1  col_name2\n",
       "0          0        3.1\n",
       "1          1        3.2\n",
       "2          2        3.3"
      ]
     },
     "execution_count": 41,
     "metadata": {},
     "output_type": "execute_result"
    }
   ],
   "source": [
    "# create data frame\n",
    "df = pd.DataFrame(d)\n",
    "df"
   ]
  },
  {
   "cell_type": "markdown",
   "id": "9b7be69d-d250-43c6-893f-10b3c708a3b9",
   "metadata": {},
   "source": [
    "# In-place operations\n",
    "Let's rename the dataframes columns.\n",
    "We can use the dataframe's method called `rename`.\n",
    "`rename` takes in as an input a dictionary:\n",
    "\n",
    "```\n",
    "{'col_1_old_name' : 'col_1_new_name',\n",
    "'col_2_old_name' : 'col_2_new_name'\n",
    "}\n",
    "```"
   ]
  },
  {
   "cell_type": "code",
   "execution_count": 42,
   "id": "4446bfa7-b441-42d1-873a-ed8d3dd630c7",
   "metadata": {
    "tags": []
   },
   "outputs": [
    {
     "data": {
      "text/html": [
       "<div>\n",
       "<style scoped>\n",
       "    .dataframe tbody tr th:only-of-type {\n",
       "        vertical-align: middle;\n",
       "    }\n",
       "\n",
       "    .dataframe tbody tr th {\n",
       "        vertical-align: top;\n",
       "    }\n",
       "\n",
       "    .dataframe thead th {\n",
       "        text-align: right;\n",
       "    }\n",
       "</style>\n",
       "<table border=\"1\" class=\"dataframe\">\n",
       "  <thead>\n",
       "    <tr style=\"text-align: right;\">\n",
       "      <th></th>\n",
       "      <th>col1</th>\n",
       "      <th>col2</th>\n",
       "    </tr>\n",
       "  </thead>\n",
       "  <tbody>\n",
       "    <tr>\n",
       "      <th>0</th>\n",
       "      <td>0</td>\n",
       "      <td>3.1</td>\n",
       "    </tr>\n",
       "    <tr>\n",
       "      <th>1</th>\n",
       "      <td>1</td>\n",
       "      <td>3.2</td>\n",
       "    </tr>\n",
       "    <tr>\n",
       "      <th>2</th>\n",
       "      <td>2</td>\n",
       "      <td>3.3</td>\n",
       "    </tr>\n",
       "  </tbody>\n",
       "</table>\n",
       "</div>"
      ],
      "text/plain": [
       "   col1  col2\n",
       "0     0   3.1\n",
       "1     1   3.2\n",
       "2     2   3.3"
      ]
     },
     "execution_count": 42,
     "metadata": {},
     "output_type": "execute_result"
    }
   ],
   "source": [
    "# define new column names\n",
    "col_names = {'col_name1' : 'col1',\n",
    "            'col_name2' : 'col2'\n",
    "            }\n",
    "\n",
    "# rename using rename method\n",
    "df.rename(columns = col_names)"
   ]
  },
  {
   "cell_type": "code",
   "execution_count": 43,
   "id": "217acbb5-fb38-494a-a7e5-2a1fa1ec0262",
   "metadata": {
    "tags": []
   },
   "outputs": [
    {
     "data": {
      "text/plain": [
       "pandas.core.frame.DataFrame"
      ]
     },
     "execution_count": 43,
     "metadata": {},
     "output_type": "execute_result"
    }
   ],
   "source": [
    "type(df)"
   ]
  },
  {
   "cell_type": "markdown",
   "id": "58c75488-5e28-4b4c-9d4e-26343420cfd1",
   "metadata": {},
   "source": [
    "Nothing changed!\n",
    "\n",
    "`df.rename()` doesn't change the column names **in place**, meaning it doesn't modify the object itself. Instead, it created a new object as an output.\n",
    "\n",
    "Assign output back to dataframe to actually change it:"
   ]
  },
  {
   "cell_type": "code",
   "execution_count": 44,
   "id": "0189d46b-8eac-4af7-b806-ae24c457a7d0",
   "metadata": {
    "tags": []
   },
   "outputs": [
    {
     "data": {
      "text/html": [
       "<div>\n",
       "<style scoped>\n",
       "    .dataframe tbody tr th:only-of-type {\n",
       "        vertical-align: middle;\n",
       "    }\n",
       "\n",
       "    .dataframe tbody tr th {\n",
       "        vertical-align: top;\n",
       "    }\n",
       "\n",
       "    .dataframe thead th {\n",
       "        text-align: right;\n",
       "    }\n",
       "</style>\n",
       "<table border=\"1\" class=\"dataframe\">\n",
       "  <thead>\n",
       "    <tr style=\"text-align: right;\">\n",
       "      <th></th>\n",
       "      <th>col1</th>\n",
       "      <th>col2</th>\n",
       "    </tr>\n",
       "  </thead>\n",
       "  <tbody>\n",
       "    <tr>\n",
       "      <th>0</th>\n",
       "      <td>0</td>\n",
       "      <td>3.1</td>\n",
       "    </tr>\n",
       "    <tr>\n",
       "      <th>1</th>\n",
       "      <td>1</td>\n",
       "      <td>3.2</td>\n",
       "    </tr>\n",
       "    <tr>\n",
       "      <th>2</th>\n",
       "      <td>2</td>\n",
       "      <td>3.3</td>\n",
       "    </tr>\n",
       "  </tbody>\n",
       "</table>\n",
       "</div>"
      ],
      "text/plain": [
       "   col1  col2\n",
       "0     0   3.1\n",
       "1     1   3.2\n",
       "2     2   3.3"
      ]
     },
     "execution_count": 44,
     "metadata": {},
     "output_type": "execute_result"
    }
   ],
   "source": [
    "df = df.rename(columns = col_names)\n",
    "df"
   ]
  },
  {
   "cell_type": "code",
   "execution_count": null,
   "id": "2a320c07-8f2b-42a5-a775-fc958b3e7c90",
   "metadata": {},
   "outputs": [],
   "source": []
  },
  {
   "cell_type": "code",
   "execution_count": null,
   "id": "c7136872-4abd-4d0a-bffb-68b22a42f1bc",
   "metadata": {},
   "outputs": [],
   "source": []
  }
 ],
 "metadata": {
  "kernelspec": {
   "display_name": "Anaconda 3 (Base)",
   "language": "python",
   "name": "base"
  },
  "language_info": {
   "codemirror_mode": {
    "name": "ipython",
    "version": 3
   },
   "file_extension": ".py",
   "mimetype": "text/x-python",
   "name": "python",
   "nbconvert_exporter": "python",
   "pygments_lexer": "ipython3",
   "version": "3.9.13"
  }
 },
 "nbformat": 4,
 "nbformat_minor": 5
}
