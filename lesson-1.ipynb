{
 "cells": [
  {
   "cell_type": "markdown",
   "id": "44d371bb-fe5d-4d89-b0a5-119aa6f3d0e7",
   "metadata": {},
   "source": [
    "# `numpy\n",
    "\n",
    "- one of the core packages for numerical computing in Python\n",
    "- many packages are built on top of numpy\n",
    "-`numpy` has been been optimized for processing: faster than due to memory access"
   ]
  },
  {
   "cell_type": "code",
   "execution_count": 3,
   "id": "ed5c4e04-b331-45f1-9684-d49808e439e9",
   "metadata": {
    "tags": []
   },
   "outputs": [],
   "source": [
    "# import Numpy with standard abbreviation\n",
    "\n",
    "import numpy as np"
   ]
  },
  {
   "cell_type": "markdown",
   "id": "5ddd726a-fb4b-4d6c-82ac-95e54219fd9b",
   "metadata": {},
   "source": [
    "# Variables\n",
    "\n",
    "We can think about variables as a bane we assign to a particular object in Python."
   ]
  },
  {
   "cell_type": "code",
   "execution_count": 4,
   "id": "3eafe69a-7059-4c91-a8c9-4fa03ba41c22",
   "metadata": {
    "tags": []
   },
   "outputs": [],
   "source": [
    "# assign a small array to a variable a \n",
    "a = np.array( [ [1,1,2], [3,5,8] ] )\n"
   ]
  },
  {
   "cell_type": "markdown",
   "id": "6222e221-efe2-449a-9475-9e7e00479205",
   "metadata": {},
   "source": [
    "When we run a cell we store the variable and its value. We can see the variable's value in two ways:"
   ]
  },
  {
   "cell_type": "code",
   "execution_count": 5,
   "id": "07b01f6a-766c-416c-910a-c6af8f382563",
   "metadata": {
    "tags": []
   },
   "outputs": [
    {
     "data": {
      "text/plain": [
       "array([[1, 1, 2],\n",
       "       [3, 5, 8]])"
      ]
     },
     "execution_count": 5,
     "metadata": {},
     "output_type": "execute_result"
    }
   ],
   "source": [
    "a"
   ]
  },
  {
   "cell_type": "code",
   "execution_count": 6,
   "id": "93df022f-eaee-486d-aa9f-ea1b612b00f5",
   "metadata": {
    "tags": []
   },
   "outputs": [
    {
     "name": "stdout",
     "output_type": "stream",
     "text": [
      "[[1 1 2]\n",
      " [3 5 8]]\n"
     ]
    }
   ],
   "source": [
    "print(a)"
   ]
  },
  {
   "cell_type": "markdown",
   "id": "87291515-b452-4de9-ac06-20575cf8c63c",
   "metadata": {},
   "source": [
    "## Naming variables\n",
    "\n",
    "In the class we are going to use `snake_case` for naming variables.\n",
    "\n",
    "# Variables and objects\n",
    "\n",
    "**object**: often encountered in Python documentation and tutorials.\n",
    "Object is a bundle of properties and actions about something specific.\n",
    "Example:\n",
    "\n",
    "- object: dataframe\n",
    "    - properties: number of rows, names of columns, data created\n",
    "    - actions: selecting a row, adding a column\n",
    "    \n",
    "A variable is a name we give a specific object, and the same object can be referenced by different variables.\n",
    "\n",
    "Example:\n",
    "- The Sun (actual star at the center of solar system) = object\n",
    "- sol = Spanish word fo Sun = variable\n",
    "- soleil = Fren for Sun = another variable\n",
    "\n",
    "In practice: we will use object and variable interchanngeably \n"
   ]
  },
  {
   "cell_type": "markdown",
   "id": "2daef499-5bbe-432b-a7de-956b483bb21b",
   "metadata": {},
   "source": [
    "# Types \n",
    "\n",
    "Each obejct in Python has a type.\n",
    "\n",
    "type = what kind of object it is\n",
    "\n",
    "We can also call the type of the object, the **class** of the object.\n",
    "\n",
    "We can see the type / class of an object by using `type` function:"
   ]
  },
  {
   "cell_type": "code",
   "execution_count": 7,
   "id": "3f459ac1-ffc1-4814-8628-82c36b4b3a2a",
   "metadata": {
    "tags": []
   },
   "outputs": [
    {
     "name": "stdout",
     "output_type": "stream",
     "text": [
      "[[1 1 2]\n",
      " [3 5 8]]\n"
     ]
    },
    {
     "data": {
      "text/plain": [
       "numpy.ndarray"
      ]
     },
     "execution_count": 7,
     "metadata": {},
     "output_type": "execute_result"
    }
   ],
   "source": [
    "print(a)\n",
    "type(a)"
   ]
  },
  {
   "cell_type": "markdown",
   "id": "cb8488f4-161f-4640-af0d-7f97626c69c8",
   "metadata": {},
   "source": [
    "The `numpy.ndarray` is the core onject/datatype in the NumPy package. We can check the type of an e\n",
    "ntry in the array by indexing:"
   ]
  },
  {
   "cell_type": "code",
   "execution_count": 8,
   "id": "81c7489e-46f2-450e-87ab-00f2fdfe8362",
   "metadata": {
    "tags": []
   },
   "outputs": [
    {
     "name": "stdout",
     "output_type": "stream",
     "text": [
      "1\n"
     ]
    },
    {
     "data": {
      "text/plain": [
       "numpy.int64"
      ]
     },
     "execution_count": 8,
     "metadata": {},
     "output_type": "execute_result"
    }
   ],
   "source": [
    "print(a[0,0])\n",
    "type(a[0,0])"
   ]
  },
  {
   "cell_type": "code",
   "execution_count": null,
   "id": "28c93be5-9861-4b57-8a89-36478c2c6e71",
   "metadata": {},
   "outputs": [],
   "source": [
    "# How would you access the value 5 in the array a ?"
   ]
  },
  {
   "cell_type": "code",
   "execution_count": 10,
   "id": "c707dfb1-93c1-415f-bc9b-8b92f07eb127",
   "metadata": {
    "tags": []
   },
   "outputs": [
    {
     "name": "stdout",
     "output_type": "stream",
     "text": [
      "[[1 1 2]\n",
      " [3 5 8]]\n"
     ]
    },
    {
     "data": {
      "text/plain": [
       "5"
      ]
     },
     "execution_count": 10,
     "metadata": {},
     "output_type": "execute_result"
    }
   ],
   "source": [
    "print(a)\n",
    "(a[1,1])"
   ]
  },
  {
   "cell_type": "markdown",
   "id": "902870ef-b6de-4377-a6b0-5dea909dc31f",
   "metadata": {},
   "source": [
    "# Functions\n",
    "\n",
    "`print` was our first example of a Python function!\n",
    "\n",
    "A function:\n",
    "- take in a set of **arguments**, separated by commas, and \n",
    "- use those arguments to produce some **output**\n",
    "\n",
    "argument = parameter : you might see argument more frequently in the documentation\n",
    "\n",
    "Use `?` followed by the function name to get information about a function"
   ]
  },
  {
   "cell_type": "code",
   "execution_count": 11,
   "id": "dc25e981-2e28-459d-9108-7d7df77c81d1",
   "metadata": {
    "tags": []
   },
   "outputs": [
    {
     "data": {
      "text/plain": [
       "\u001b[0;31mDocstring:\u001b[0m\n",
       "print(value, ..., sep=' ', end='\\n', file=sys.stdout, flush=False)\n",
       "\n",
       "Prints the values to a stream, or to sys.stdout by default.\n",
       "Optional keyword arguments:\n",
       "file:  a file-like object (stream); defaults to the current sys.stdout.\n",
       "sep:   string inserted between values, default a space.\n",
       "end:   string appended after the last value, default a newline.\n",
       "flush: whether to forcibly flush the stream.\n",
       "\u001b[0;31mType:\u001b[0m      builtin_function_or_method\n"
      ]
     },
     "metadata": {},
     "output_type": "display_data"
    }
   ],
   "source": [
    "?print"
   ]
  },
  {
   "cell_type": "markdown",
   "id": "a1e6276b-e8e9-40a3-ba91-0b063e93f22f",
   "metadata": {},
   "source": [
    "- first line: function showing all of its argnuments in parenthesis\n",
    "- then a short description of what the function does\n",
    "- finally, a list of the arguments and a brief explanation of each of them.\n",
    "\n",
    "Different types of arguments inside the paranthesis. \n",
    "Two base types:\n",
    "- **non-optional arguments**: arguments you need to specify for the function to do something\n",
    "- **optional arguments**: arguments are pre-filled with a default value by the function bu t we can pverride them. Optional arguments appear inside the paranthesis in the form:\n",
    "`optional argument = default_value`"
   ]
  },
  {
   "cell_type": "code",
   "execution_count": 12,
   "id": "ac07530f-45ac-4d60-b72b-150422b29002",
   "metadata": {
    "tags": []
   },
   "outputs": [
    {
     "name": "stdout",
     "output_type": "stream",
     "text": [
      "changing the default end argument of the print function:)"
     ]
    }
   ],
   "source": [
    "print('changing the default end argument of the print function', end = ':)') "
   ]
  },
  {
   "cell_type": "markdown",
   "id": "1d48cd0f-9cff-4602-b7a2-6de325920796",
   "metadata": {},
   "source": [
    "# Attributes and Methods\n",
    "\n",
    "An object in Python has attribute and methods.\n",
    "\n",
    "- **attributes**: a propperty of an object , a piece of information about it.\n",
    "- **methods**: a procedure associated with an object. = a function() where the main parameter us the object.\n",
    "\n",
    "Access a variable's attributes and methods by adding a period `.` at the end of the variable's name.\n",
    "\n",
    "`variable.variable_method()` or\n",
    "`variable.variable_attribute`\n",
    "\n",
    "Examples:\n",
    "\n",
    "Methods and attributes of NumPy arrays:"
   ]
  },
  {
   "cell_type": "code",
   "execution_count": 1,
   "id": "c5598250-3b05-4b18-8e7e-1473dc999ffe",
   "metadata": {
    "tags": []
   },
   "outputs": [],
   "source": [
    "import numpy as np"
   ]
  },
  {
   "cell_type": "code",
   "execution_count": 2,
   "id": "a9f5d712-3611-4f92-8423-ca986c1fb549",
   "metadata": {
    "tags": []
   },
   "outputs": [
    {
     "data": {
      "text/plain": [
       "array([[1, 2, 3],\n",
       "       [4, 5, 6],\n",
       "       [7, 8, 9]])"
      ]
     },
     "execution_count": 2,
     "metadata": {},
     "output_type": "execute_result"
    }
   ],
   "source": [
    "# define a 3x3 array\n",
    "\n",
    "var = np.array([ [1,2,3], [4,5,6], [7,8,9] ])\n",
    "var"
   ]
  },
  {
   "cell_type": "code",
   "execution_count": 3,
   "id": "7817e864-4775-4637-ad52-37745b5d3d5f",
   "metadata": {
    "tags": []
   },
   "outputs": [
    {
     "data": {
      "text/plain": [
       "(3, 3)"
      ]
     },
     "execution_count": 3,
     "metadata": {},
     "output_type": "execute_result"
    }
   ],
   "source": [
    "# attributes\n",
    "# shape : attribute telling the number of elements in each dimension of the array\n",
    "\n",
    "var.shape"
   ]
  },
  {
   "cell_type": "code",
   "execution_count": 4,
   "id": "30d2d59a-39dc-43cd-98f4-e8a70b5bea83",
   "metadata": {
    "tags": []
   },
   "outputs": [
    {
     "data": {
      "text/plain": [
       "tuple"
      ]
     },
     "execution_count": 4,
     "metadata": {},
     "output_type": "execute_result"
    }
   ],
   "source": [
    "type(var.shape)"
   ]
  },
  {
   "cell_type": "code",
   "execution_count": 5,
   "id": "e31dab6b-127f-4b8d-9b41-96a705856091",
   "metadata": {
    "tags": []
   },
   "outputs": [
    {
     "data": {
      "text/plain": [
       "2"
      ]
     },
     "execution_count": 5,
     "metadata": {},
     "output_type": "execute_result"
    }
   ],
   "source": [
    "# ndim: attribute that holds the number of array dimensions\n",
    "var.ndim"
   ]
  },
  {
   "cell_type": "code",
   "execution_count": 6,
   "id": "f3c97b9b-2411-434c-b98b-0c826e631789",
   "metadata": {
    "tags": []
   },
   "outputs": [
    {
     "data": {
      "text/plain": [
       "int"
      ]
     },
     "execution_count": 6,
     "metadata": {},
     "output_type": "execute_result"
    }
   ],
   "source": [
    "type(var.ndim)"
   ]
  },
  {
   "cell_type": "markdown",
   "id": "483863a1-4cea-4876-8049-fa2ac023446f",
   "metadata": {},
   "source": [
    "- Notice attributes can have many different data types.\n",
    "\n",
    "Examples of methods"
   ]
  },
  {
   "cell_type": "code",
   "execution_count": 7,
   "id": "2c2e7959-bba0-4ee7-8573-348a2ba78524",
   "metadata": {
    "tags": []
   },
   "outputs": [
    {
     "data": {
      "text/plain": [
       "1"
      ]
     },
     "execution_count": 7,
     "metadata": {},
     "output_type": "execute_result"
    }
   ],
   "source": [
    "# min method for array: returns a minimum value in the array\n",
    "var.min()"
   ]
  },
  {
   "cell_type": "code",
   "execution_count": 8,
   "id": "cc400d6d-73a8-43af-b413-16766ae95014",
   "metadata": {
    "tags": []
   },
   "outputs": [
    {
     "data": {
      "text/plain": [
       "builtin_function_or_method"
      ]
     },
     "execution_count": 8,
     "metadata": {},
     "output_type": "execute_result"
    }
   ],
   "source": [
    "type(var.min)"
   ]
  },
  {
   "cell_type": "markdown",
   "id": "20d5b80a-34a7-4097-aac7-1119b3482b70",
   "metadata": {},
   "source": [
    "# R and Python\n",
    "\n",
    "R:\n",
    "- does not use methods within an object\n",
    "- functions in R are extrinsic to (outside) the objects thay are acting on \n",
    "\n",
    "Example: recreate getting the mean value in an arrray\n",
    "\n",
    "In R there would be two separate items: the variable `var` and a **separate** function `min` that gets `var` as a parameter:\n",
    "\n",
    "```\n",
    "# this is R code\n",
    "var <- array(c(1,4,7,2,5,8,3,6,9), dim=c(3,3))\n",
    "min(var)\n",
    "```\n",
    "\n",
    "Using the pipe operator >%> in R's tidyverse is closer to the `.` in Python\n",
    "\n",
    "```\n",
    "var <- array(c(1,4,7,2,5,8,3,6,9), dim=c(3,3))\n",
    "var >%> min()\n",
    "```\n",
    "\n",
    "The pipe is passing `var` to the `min()` as its first argument. This is similar to the `.` in Python.\n",
    "\n",
    "```\n",
    "var = np.array([ [1,2,3], [4,5,6], [7,8,9] ])\n",
    "var.min()\n",
    "```\n",
    "\n"
   ]
  }
 ],
 "metadata": {
  "kernelspec": {
   "display_name": "Anaconda 3 (Base)",
   "language": "python",
   "name": "base"
  },
  "language_info": {
   "codemirror_mode": {
    "name": "ipython",
    "version": 3
   },
   "file_extension": ".py",
   "mimetype": "text/x-python",
   "name": "python",
   "nbconvert_exporter": "python",
   "pygments_lexer": "ipython3",
   "version": "3.9.13"
  }
 },
 "nbformat": 4,
 "nbformat_minor": 5
}
